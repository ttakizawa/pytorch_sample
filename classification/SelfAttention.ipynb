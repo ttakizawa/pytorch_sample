{
  "nbformat": 4,
  "nbformat_minor": 0,
  "metadata": {
    "colab": {
      "name": "SelfAttention.ipynb",
      "provenance": [],
      "collapsed_sections": [],
      "authorship_tag": "ABX9TyN3MUddHQ9cMRN+d2oT+Tsm",
      "include_colab_link": true
    },
    "kernelspec": {
      "name": "python3",
      "display_name": "Python 3"
    },
    "language_info": {
      "name": "python"
    },
    "accelerator": "GPU",
    "gpuClass": "standard"
  },
  "cells": [
    {
      "cell_type": "markdown",
      "metadata": {
        "id": "view-in-github",
        "colab_type": "text"
      },
      "source": [
        "<a href=\"https://colab.research.google.com/github/ttakizawa/pytorch_sample/blob/main/classification/SelfAttention.ipynb\" target=\"_parent\"><img src=\"https://colab.research.google.com/assets/colab-badge.svg\" alt=\"Open In Colab\"/></a>"
      ]
    },
    {
      "cell_type": "code",
      "execution_count": 1,
      "metadata": {
        "id": "NhfJJENtQ_v8"
      },
      "outputs": [],
      "source": [
        "import torch\n",
        "import numpy as np\n",
        "from torch import nn\n",
        "from torch.utils.data import DataLoader\n",
        "from torchvision import datasets\n",
        "import torchvision.transforms as transforms\n",
        "from torchvision.transforms import ToTensor\n",
        "from torch.utils.data.sampler import SubsetRandomSampler"
      ]
    },
    {
      "cell_type": "markdown",
      "source": [
        "## Prepare Dataset"
      ],
      "metadata": {
        "id": "gT_WwEU5XuCk"
      }
    },
    {
      "cell_type": "code",
      "source": [
        "def create_datasets(batch_size):\n",
        "\n",
        "    # percentage of training set to use as validation\n",
        "    valid_size = 0.2\n",
        "\n",
        "    # convert data to torch.FloatTensor\n",
        "    transform = transforms.ToTensor()\n",
        "\n",
        "    # choose the training and test datasets\n",
        "    train_data = datasets.MNIST(root='data', \n",
        "                                train=True,\n",
        "                                download=True, \n",
        "                                transform=transform)\n",
        "\n",
        "    test_data = datasets.MNIST(root='data',\n",
        "                               train=False,\n",
        "                               download=True,\n",
        "                               transform=transform)\n",
        "\n",
        "    # obtain training indices that will be used for validation\n",
        "    num_train = len(train_data)\n",
        "    indices = list(range(num_train))\n",
        "    np.random.shuffle(indices)\n",
        "    split = int(np.floor(valid_size * num_train))\n",
        "    train_idx, valid_idx = indices[split:], indices[:split]\n",
        "    \n",
        "    # define samplers for obtaining training and validation batches\n",
        "    train_sampler = SubsetRandomSampler(train_idx)\n",
        "    valid_sampler = SubsetRandomSampler(valid_idx)\n",
        "    \n",
        "    # load training data in batches\n",
        "    train_loader = torch.utils.data.DataLoader(train_data,\n",
        "                                               batch_size=batch_size,\n",
        "                                               sampler=train_sampler,\n",
        "                                               num_workers=0)\n",
        "    \n",
        "    # load validation data in batches\n",
        "    valid_loader = torch.utils.data.DataLoader(train_data,\n",
        "                                               batch_size=batch_size,\n",
        "                                               sampler=valid_sampler,\n",
        "                                               num_workers=0)\n",
        "    \n",
        "    # load test data in batches\n",
        "    test_loader = torch.utils.data.DataLoader(test_data,\n",
        "                                              batch_size=batch_size,\n",
        "                                              num_workers=0)\n",
        "    \n",
        "    return train_loader, test_loader, valid_loader"
      ],
      "metadata": {
        "id": "WVxKEHboRJYl"
      },
      "execution_count": 2,
      "outputs": []
    },
    {
      "cell_type": "markdown",
      "source": [
        "## Eary Stopping"
      ],
      "metadata": {
        "id": "aCKiTa5vX6kn"
      }
    },
    {
      "cell_type": "code",
      "source": [
        "class EarlyStopping:\n",
        "    \"\"\"Early stops the training if validation loss doesn't improve after a given patience.\"\"\"\n",
        "    def __init__(self, patience=7, verbose=False, delta=0, path='checkpoint.pt', trace_func=print):\n",
        "        \"\"\"\n",
        "        Args:\n",
        "            patience (int): How long to wait after last time validation loss improved.\n",
        "                            Default: 7\n",
        "            verbose (bool): If True, prints a message for each validation loss improvement. \n",
        "                            Default: False\n",
        "            delta (float): Minimum change in the monitored quantity to qualify as an improvement.\n",
        "                            Default: 0\n",
        "            path (str): Path for the checkpoint to be saved to.\n",
        "                            Default: 'checkpoint.pt'\n",
        "            trace_func (function): trace print function.\n",
        "                            Default: print            \n",
        "        \"\"\"\n",
        "        self.patience = patience\n",
        "        self.verbose = verbose\n",
        "        self.counter = 0\n",
        "        self.best_score = None\n",
        "        self.early_stop = False\n",
        "        self.val_loss_min = np.Inf\n",
        "        self.delta = delta\n",
        "        self.path = path\n",
        "        self.trace_func = trace_func\n",
        "    def __call__(self, val_loss, model):\n",
        "\n",
        "        score = -val_loss\n",
        "\n",
        "        if self.best_score is None:\n",
        "            self.best_score = score\n",
        "            self.save_checkpoint(val_loss, model)\n",
        "        elif score < self.best_score + self.delta:\n",
        "            self.counter += 1\n",
        "            self.trace_func(f'EarlyStopping counter: {self.counter} out of {self.patience}')\n",
        "            if self.counter >= self.patience:\n",
        "                self.early_stop = True\n",
        "        else:\n",
        "            self.best_score = score\n",
        "            self.save_checkpoint(val_loss, model)\n",
        "            self.counter = 0\n",
        "\n",
        "    def save_checkpoint(self, val_loss, model):\n",
        "        '''Saves model when validation loss decrease.'''\n",
        "        if self.verbose:\n",
        "            self.trace_func(f'Validation loss decreased ({self.val_loss_min:.6f} --> {val_loss:.6f}).  Saving model ...')\n",
        "        torch.save(model.state_dict(), self.path)\n",
        "        self.val_loss_min = val_loss"
      ],
      "metadata": {
        "id": "M9Dr0KVHX85I"
      },
      "execution_count": 3,
      "outputs": []
    },
    {
      "cell_type": "markdown",
      "source": [
        "## Define Model"
      ],
      "metadata": {
        "id": "JJxQtfeHZWqG"
      }
    },
    {
      "cell_type": "code",
      "source": [
        "class SelfAttention(nn.Module):\n",
        "  \n",
        "  def __init__(self,inplanes):\n",
        "    super(SelfAttention,self).__init__()\n",
        "    self.inplanes = inplanes\n",
        "    # theta transform\n",
        "    self.theta = nn.Conv2d(self.inplanes,self.inplanes//2,1)\n",
        "    # phi transform\n",
        "    self.phi = nn.Sequential(nn.Conv2d(self.inplanes,self.inplanes//2,1),\n",
        "                             # nn.MaxPool2d(2,2)\n",
        "                             )\n",
        "    # function g\n",
        "    self.g_func = nn.Sequential(nn.Conv2d(self.inplanes,self.inplanes//2,1),\n",
        "                                # nn.MaxPool2d(2,2)\n",
        "                                )\n",
        "    \n",
        "    # w transform to match the channel\n",
        "    self.w = nn.Conv2d(self.inplanes//2,self.inplanes,1)\n",
        "  \n",
        "  def forward(self,xs):\n",
        "    \n",
        "    theta = self.theta(xs)\n",
        "    N,C,W,H = theta.size()\n",
        "    theta = theta.view(N,C,H*W).transpose(2,1)\n",
        "    # print(theta.shape)\n",
        "    phi = self.phi(xs)\n",
        "    phi = phi.view(N,C,-1)\n",
        "    # compute attention\n",
        "    attention = theta.bmm(phi)\n",
        "    # assert attention.size()==(N,H*W,H*W)\n",
        "    attention = nn.functional.softmax(attention,dim=-1)\n",
        "    # g transform\n",
        "    g = self.g_func(xs)\n",
        "    g = g.view(N,C,-1)\n",
        "    # final response\n",
        "    response = g.bmm(attention.transpose(2,1))\n",
        "    response = response.view(N,C,W,H)\n",
        "    # matching channel\n",
        "    response = self.w(response)\n",
        "    output = response + xs\n",
        "    return output"
      ],
      "metadata": {
        "id": "zizwfNIXRyMk"
      },
      "execution_count": 32,
      "outputs": []
    },
    {
      "cell_type": "code",
      "source": [
        "class SAModel(nn.Module):\n",
        "  \n",
        "  def __init__(self,num_class=10):\n",
        "    super(SAModel,self).__init__()\n",
        "    self.conv_1 = nn.Sequential(\n",
        "        # output->14x14x16\n",
        "        nn.Conv2d(1,16,3,padding=1,bias=False),\n",
        "        nn.BatchNorm2d(16),\n",
        "        nn.ReLU(True),\n",
        "        nn.MaxPool2d(2,2),\n",
        "    )\n",
        "    self.attention_1 = SelfAttention(16)\n",
        "    self.conv_2 = nn.Sequential(\n",
        "        # output->7x7x32\n",
        "        nn.Conv2d(16,32,3,padding=1,bias=False),\n",
        "        nn.BatchNorm2d(32),\n",
        "        nn.ReLU(True),\n",
        "        nn.MaxPool2d(2,2),\n",
        "    )\n",
        "    self.attention_2 = SelfAttention(32)\n",
        "    self.conv_3 = nn.Sequential(\n",
        "        # output->4x4x64\n",
        "        nn.Conv2d(32,64,3,padding=1,bias=False),\n",
        "        nn.BatchNorm2d(64),\n",
        "        nn.ReLU(True),\n",
        "        nn.MaxPool2d(2,2,padding=1),\n",
        "    )\n",
        "    self.conv_4 = nn.Sequential(\n",
        "        # output->1x1x128\n",
        "        nn.Conv2d(64,128,4,bias=False),\n",
        "        nn.BatchNorm2d(128),\n",
        "        nn.ReLU(True)\n",
        "    )\n",
        "    self.classifer = nn.Linear(128,num_class)\n",
        "    \n",
        "  def forward(self,xs):\n",
        "    bs = xs.size(0)\n",
        "    xs = self.conv_1(xs)\n",
        "    xs = self.attention_1(xs)\n",
        "    xs = self.conv_2(xs)\n",
        "    xs = self.attention_2(xs)\n",
        "    xs = self.conv_3(xs)\n",
        "    xs = self.conv_4(xs)\n",
        "    xs = xs.view(bs,-1)\n",
        "    xs = self.classifer(xs)\n",
        "    return xs"
      ],
      "metadata": {
        "id": "bv3ofwjfKlj4"
      },
      "execution_count": 33,
      "outputs": []
    },
    {
      "cell_type": "markdown",
      "source": [
        "## Training Loop"
      ],
      "metadata": {
        "id": "-Kmf1vgaZZjF"
      }
    },
    {
      "cell_type": "code",
      "source": [
        "def train(device, model, batch_size, loss_fn, optimizer, patience, n_epochs, train_loader, valid_loader):\n",
        "    # to track the training loss as the model trains\n",
        "    train_losses = []\n",
        "    # to track the validation loss as the model trains\n",
        "    valid_losses = []\n",
        "    # to track the average training loss per epoch as the model trains\n",
        "    avg_train_losses = []\n",
        "    # to track the average validation loss per epoch as the model trains\n",
        "    avg_valid_losses = [] \n",
        "    \n",
        "    # initialize the early_stopping object\n",
        "    early_stopping = EarlyStopping(patience=patience, verbose=True)\n",
        "\n",
        "    for epoch in range(1, n_epochs + 1):\n",
        "      # train the model \n",
        "      model.train() # prep model for training\n",
        "      for batch, (data, target) in enumerate(train_loader, 1):\n",
        "        data, target = data.to(device), target.to(device)\n",
        "        # clear the gradients of all optimized variables\n",
        "        optimizer.zero_grad()\n",
        "        # forward pass: compute predicted outputs by passing inputs to the model\n",
        "        output = model(data)\n",
        "        # calculate the loss\n",
        "        loss = loss_fn(output, target)\n",
        "        # backward pass: compute gradient of the loss with respect to model parameters\n",
        "        loss.backward()\n",
        "        # perform a single optimization step (parameter update)\n",
        "        optimizer.step()\n",
        "        # record training loss\n",
        "        train_losses.append(loss.item())\n",
        "\n",
        "      # validate the model \n",
        "      model.eval() # prep model for evaluation\n",
        "      for data, target in valid_loader:\n",
        "        data, target = data.to(device), target.to(device)\n",
        "        # forward pass: compute predicted outputs by passing inputs to the model\n",
        "        output = model(data)\n",
        "        # calculate the loss\n",
        "        loss = loss_fn(output, target)\n",
        "        # record validation loss\n",
        "        valid_losses.append(loss.item())\n",
        "      \n",
        "      # print training/validation statistics \n",
        "      # calculate average loss over an epoch\n",
        "      train_loss = np.average(train_losses)\n",
        "      valid_loss = np.average(valid_losses)\n",
        "      avg_train_losses.append(train_loss)\n",
        "      avg_valid_losses.append(valid_loss)\n",
        "\n",
        "      epoch_len = len(str(n_epochs))\n",
        "        \n",
        "      print_msg = (f'[{epoch:>{epoch_len}}/{n_epochs:>{epoch_len}}] ' +\n",
        "                    f'train_loss: {train_loss:.5f} ' +\n",
        "                    f'valid_loss: {valid_loss:.5f}')\n",
        "      \n",
        "      print(print_msg)\n",
        "      \n",
        "      # clear lists to track next epoch\n",
        "      train_losses = []\n",
        "      valid_losses = []\n",
        "      \n",
        "      # early_stopping needs the validation loss to check if it has decresed, \n",
        "      # and if it has, it will make a checkpoint of the current model\n",
        "      early_stopping(valid_loss, model)\n",
        "      \n",
        "      if early_stopping.early_stop:\n",
        "          print(\"Early stopping\")\n",
        "          break\n",
        "        \n",
        "    # load the last checkpoint with the best model\n",
        "    model.load_state_dict(torch.load('checkpoint.pt'))\n",
        "\n",
        "    return  model, avg_train_losses, avg_valid_losses"
      ],
      "metadata": {
        "id": "B9Bpepg8R5ri"
      },
      "execution_count": 24,
      "outputs": []
    },
    {
      "cell_type": "code",
      "source": [
        "batch_size = 256\n",
        "n_epochs = 100\n",
        "\n",
        "device = \"cuda\" if torch.cuda.is_available() else \"cpu\"\n",
        "print(f\"Using {device} device\")\n",
        "\n",
        "# data loader\n",
        "train_loader, test_loader, valid_loader = create_datasets(batch_size)\n",
        "\n",
        "# model\n",
        "model = SAModel().to(device)\n",
        "\n",
        "loss_fn = nn.CrossEntropyLoss()\n",
        "optimizer = torch.optim.Adam(model.parameters())\n",
        "\n",
        "# early stopping patience; how long to wait after last time validation loss improved.\n",
        "patience = 3\n",
        "\n",
        "model, train_loss, valid_loss = train(device, model, batch_size, loss_fn, optimizer, patience, n_epochs, train_loader, valid_loader)"
      ],
      "metadata": {
        "colab": {
          "base_uri": "https://localhost:8080/"
        },
        "id": "4n6B-HSXaoXE",
        "outputId": "ed0b21bf-1243-430a-d24a-6eb991d6e389"
      },
      "execution_count": 34,
      "outputs": [
        {
          "output_type": "stream",
          "name": "stdout",
          "text": [
            "Using cuda device\n",
            "[  1/100] train_loss: 0.19574 valid_loss: 0.07400\n",
            "Validation loss decreased (inf --> 0.074000).  Saving model ...\n",
            "[  2/100] train_loss: 0.03869 valid_loss: 0.04586\n",
            "Validation loss decreased (0.074000 --> 0.045860).  Saving model ...\n",
            "[  3/100] train_loss: 0.02350 valid_loss: 0.03968\n",
            "Validation loss decreased (0.045860 --> 0.039684).  Saving model ...\n",
            "[  4/100] train_loss: 0.01565 valid_loss: 0.03273\n",
            "Validation loss decreased (0.039684 --> 0.032735).  Saving model ...\n",
            "[  5/100] train_loss: 0.01020 valid_loss: 0.02999\n",
            "Validation loss decreased (0.032735 --> 0.029987).  Saving model ...\n",
            "[  6/100] train_loss: 0.00825 valid_loss: 0.03985\n",
            "EarlyStopping counter: 1 out of 3\n",
            "[  7/100] train_loss: 0.00643 valid_loss: 0.03163\n",
            "EarlyStopping counter: 2 out of 3\n",
            "[  8/100] train_loss: 0.00422 valid_loss: 0.03712\n",
            "EarlyStopping counter: 3 out of 3\n",
            "Early stopping\n"
          ]
        }
      ]
    },
    {
      "cell_type": "markdown",
      "source": [
        "## Visualizing the Loss and the Early Stopping Checkpoint"
      ],
      "metadata": {
        "id": "0Pt3Z5zwbVpt"
      }
    },
    {
      "cell_type": "code",
      "source": [
        "import matplotlib.pyplot as plt\n",
        "%matplotlib inline"
      ],
      "metadata": {
        "id": "0FpyDC0ybZ0H"
      },
      "execution_count": 35,
      "outputs": []
    },
    {
      "cell_type": "code",
      "source": [
        "# visualize the loss as the network trained\n",
        "fig = plt.figure(figsize=(10,8))\n",
        "plt.plot(range(1,len(train_loss)+1),train_loss, label='Training Loss')\n",
        "plt.plot(range(1,len(valid_loss)+1),valid_loss,label='Validation Loss')\n",
        "\n",
        "# find position of lowest validation loss\n",
        "minposs = valid_loss.index(min(valid_loss))+1 \n",
        "plt.axvline(minposs, linestyle='--', color='r',label='Early Stopping Checkpoint')\n",
        "\n",
        "plt.xlabel('epochs')\n",
        "plt.ylabel('loss')\n",
        "plt.ylim(0, max(np.max(valid_loss), np.max(train_loss) + 0.1)) # consistent scale\n",
        "plt.xlim(0, len(train_loss)+1) # consistent scale\n",
        "plt.grid(True)\n",
        "plt.legend()\n",
        "plt.tight_layout()\n",
        "plt.show()\n",
        "fig.savefig('loss_plot.png', bbox_inches='tight')"
      ],
      "metadata": {
        "colab": {
          "base_uri": "https://localhost:8080/",
          "height": 585
        },
        "id": "GQhQ0FFaa1o6",
        "outputId": "698e7cec-19b0-4002-d91c-5918c14c2dfe"
      },
      "execution_count": 36,
      "outputs": [
        {
          "output_type": "display_data",
          "data": {
            "text/plain": [
              "<Figure size 720x576 with 1 Axes>"
            ],
            "image/png": "[encoded data removed]"
          },
          "metadata": {
            "needs_background": "light"
          }
        }
      ]
    },
    {
      "cell_type": "code",
      "source": [
        "# initialize lists to monitor test loss and accuracy\n",
        "test_loss = 0.0\n",
        "class_correct = list(0. for i in range(10))\n",
        "class_total = list(0. for i in range(10))\n",
        "\n",
        "model.eval() # prep model for evaluation\n",
        "\n",
        "for data, target in test_loader:\n",
        "    if len(target.data) != batch_size:\n",
        "        break\n",
        "    # forward pass: compute predicted outputs by passing inputs to the model\n",
        "    data, target = data.to(device), target.to(device)\n",
        "    output = model(data)\n",
        "    # calculate the loss\n",
        "    loss = loss_fn(output, target)\n",
        "    # update test loss \n",
        "    test_loss += loss.item()*data.size(0)\n",
        "    # convert output probabilities to predicted class\n",
        "    _, pred = torch.max(output, 1)\n",
        "    # compare predictions to true label\n",
        "    correct = np.squeeze(pred.eq(target.data.view_as(pred)))\n",
        "    # calculate test accuracy for each object class\n",
        "    for i in range(batch_size):\n",
        "        label = target.data[i]\n",
        "        class_correct[label] += correct[i].item()\n",
        "        class_total[label] += 1\n",
        "\n",
        "# calculate and print avg test loss\n",
        "test_loss = test_loss/len(test_loader.dataset)\n",
        "print('Test Loss: {:.6f}\\n'.format(test_loss))\n",
        "\n",
        "for i in range(10):\n",
        "    if class_total[i] > 0:\n",
        "        print('Test Accuracy of %5s: %2d%% (%2d/%2d)' % (\n",
        "            str(i), 100 * class_correct[i] / class_total[i],\n",
        "            np.sum(class_correct[i]), np.sum(class_total[i])))\n",
        "    else:\n",
        "        print('Test Accuracy of %5s: N/A (no training examples)' % (classes[i]))\n",
        "\n",
        "print('\\nTest Accuracy (Overall): %2d%% (%2d/%2d)' % (\n",
        "    100. * np.sum(class_correct) / np.sum(class_total),\n",
        "    np.sum(class_correct), np.sum(class_total)))"
      ],
      "metadata": {
        "colab": {
          "base_uri": "https://localhost:8080/"
        },
        "id": "F_CpUAqMeVoS",
        "outputId": "fef0d638-08df-432b-ede0-14d2a62e29b2"
      },
      "execution_count": 37,
      "outputs": [
        {
          "output_type": "stream",
          "name": "stdout",
          "text": [
            "Test Loss: 0.025330\n",
            "\n",
            "Test Accuracy of     0: 99% (975/979)\n",
            "Test Accuracy of     1: 99% (1130/1133)\n",
            "Test Accuracy of     2: 99% (1025/1030)\n",
            "Test Accuracy of     3: 99% (1003/1008)\n",
            "Test Accuracy of     4: 99% (976/980)\n",
            "Test Accuracy of     5: 98% (880/890)\n",
            "Test Accuracy of     6: 98% (944/956)\n",
            "Test Accuracy of     7: 99% (1017/1027)\n",
            "Test Accuracy of     8: 99% (964/973)\n",
            "Test Accuracy of     9: 98% (988/1008)\n",
            "\n",
            "Test Accuracy (Overall): 99% (9902/9984)\n"
          ]
        }
      ]
    },
    {
      "cell_type": "code",
      "source": [
        "# obtain one batch of test images\n",
        "dataiter = iter(test_loader)\n",
        "images, labels = dataiter.next()\n",
        "images, labels = images.to(device), labels.to(device)\n",
        "# get sample outputs\n",
        "output = model(images)\n",
        "# convert output probabilities to predicted class\n",
        "_, preds = torch.max(output, 1)\n",
        "# prep images for display\n",
        "images = images.cpu().numpy()\n",
        "\n",
        "# plot the images in the batch, along with predicted and true labels\n",
        "fig = plt.figure(figsize=(25, 4))\n",
        "for idx in np.arange(20):\n",
        "    ax = fig.add_subplot(2, 20/2, idx+1, xticks=[], yticks=[])\n",
        "    ax.imshow(np.squeeze(images[idx]), cmap='gray')\n",
        "    ax.set_title(\"{} ({})\".format(str(preds[idx].item()), str(labels[idx].item())),\n",
        "                 color=(\"green\" if preds[idx]==labels[idx] else \"red\"))"
      ],
      "metadata": {
        "colab": {
          "base_uri": "https://localhost:8080/",
          "height": 267
        },
        "id": "r_OVitkYmRMo",
        "outputId": "d4bfe5ab-dd8f-479e-96f0-ff5a8469c8ed"
      },
      "execution_count": 38,
      "outputs": [
        {
          "output_type": "display_data",
          "data": {
            "text/plain": [
              "<Figure size 1800x288 with 20 Axes>"
            ],
            "image/png": "[encoded data removed]"
          },
          "metadata": {}
        }
      ]
    },
    {
      "cell_type": "markdown",
      "source": [
        "## Visualize Middle Layer Output"
      ],
      "metadata": {
        "id": "GUPJEnxl5dkb"
      }
    },
    {
      "cell_type": "code",
      "source": [
        "print(model)"
      ],
      "metadata": {
        "id": "QFuodU5apD1P",
        "colab": {
          "base_uri": "https://localhost:8080/"
        },
        "outputId": "4a0dd72d-5000-4bd7-9a58-41b37021396c"
      },
      "execution_count": 39,
      "outputs": [
        {
          "output_type": "stream",
          "name": "stdout",
          "text": [
            "SAModel(\n",
            "  (conv_1): Sequential(\n",
            "    (0): Conv2d(1, 16, kernel_size=(3, 3), stride=(1, 1), padding=(1, 1), bias=False)\n",
            "    (1): BatchNorm2d(16, eps=1e-05, momentum=0.1, affine=True, track_running_stats=True)\n",
            "    (2): ReLU(inplace=True)\n",
            "    (3): MaxPool2d(kernel_size=2, stride=2, padding=0, dilation=1, ceil_mode=False)\n",
            "  )\n",
            "  (attention_1): SelfAttention(\n",
            "    (theta): Conv2d(16, 8, kernel_size=(1, 1), stride=(1, 1))\n",
            "    (phi): Sequential(\n",
            "      (0): Conv2d(16, 8, kernel_size=(1, 1), stride=(1, 1))\n",
            "    )\n",
            "    (g_func): Sequential(\n",
            "      (0): Conv2d(16, 8, kernel_size=(1, 1), stride=(1, 1))\n",
            "    )\n",
            "    (w): Conv2d(8, 16, kernel_size=(1, 1), stride=(1, 1))\n",
            "  )\n",
            "  (conv_2): Sequential(\n",
            "    (0): Conv2d(16, 32, kernel_size=(3, 3), stride=(1, 1), padding=(1, 1), bias=False)\n",
            "    (1): BatchNorm2d(32, eps=1e-05, momentum=0.1, affine=True, track_running_stats=True)\n",
            "    (2): ReLU(inplace=True)\n",
            "    (3): MaxPool2d(kernel_size=2, stride=2, padding=0, dilation=1, ceil_mode=False)\n",
            "  )\n",
            "  (attention_2): SelfAttention(\n",
            "    (theta): Conv2d(32, 16, kernel_size=(1, 1), stride=(1, 1))\n",
            "    (phi): Sequential(\n",
            "      (0): Conv2d(32, 16, kernel_size=(1, 1), stride=(1, 1))\n",
            "    )\n",
            "    (g_func): Sequential(\n",
            "      (0): Conv2d(32, 16, kernel_size=(1, 1), stride=(1, 1))\n",
            "    )\n",
            "    (w): Conv2d(16, 32, kernel_size=(1, 1), stride=(1, 1))\n",
            "  )\n",
            "  (conv_3): Sequential(\n",
            "    (0): Conv2d(32, 64, kernel_size=(3, 3), stride=(1, 1), padding=(1, 1), bias=False)\n",
            "    (1): BatchNorm2d(64, eps=1e-05, momentum=0.1, affine=True, track_running_stats=True)\n",
            "    (2): ReLU(inplace=True)\n",
            "    (3): MaxPool2d(kernel_size=2, stride=2, padding=1, dilation=1, ceil_mode=False)\n",
            "  )\n",
            "  (conv_4): Sequential(\n",
            "    (0): Conv2d(64, 128, kernel_size=(4, 4), stride=(1, 1), bias=False)\n",
            "    (1): BatchNorm2d(128, eps=1e-05, momentum=0.1, affine=True, track_running_stats=True)\n",
            "    (2): ReLU(inplace=True)\n",
            "  )\n",
            "  (classifer): Linear(in_features=128, out_features=10, bias=True)\n",
            ")\n"
          ]
        }
      ]
    },
    {
      "cell_type": "code",
      "source": [
        "from torchvision.models.feature_extraction import create_feature_extractor"
      ],
      "metadata": {
        "id": "4M46WCShvocD"
      },
      "execution_count": 13,
      "outputs": []
    },
    {
      "cell_type": "code",
      "source": [
        "feature_extractor = create_feature_extractor(model, {\"conv_1\": \"conv_1\", \"attention_1\": \"attention_1\", \"conv_2\": \"conv_2\", \"attention_2\": \"attention_2\"})"
      ],
      "metadata": {
        "id": "8F5vByBGvwmC"
      },
      "execution_count": 41,
      "outputs": []
    },
    {
      "cell_type": "code",
      "source": [
        "images, labels = dataiter.next()\n",
        "images.shape"
      ],
      "metadata": {
        "colab": {
          "base_uri": "https://localhost:8080/"
        },
        "id": "19i08awQv9Fp",
        "outputId": "aae44a92-9b80-48c6-8aae-cc199fc43dd3"
      },
      "execution_count": 42,
      "outputs": [
        {
          "output_type": "execute_result",
          "data": {
            "text/plain": [
              "torch.Size([256, 1, 28, 28])"
            ]
          },
          "metadata": {},
          "execution_count": 42
        }
      ]
    },
    {
      "cell_type": "code",
      "source": [
        "feature_dict = feature_extractor(torch.unsqueeze(images[0], 0).to(device))"
      ],
      "metadata": {
        "id": "DWUGa-jDwBa5"
      },
      "execution_count": 43,
      "outputs": []
    },
    {
      "cell_type": "code",
      "source": [
        "print(feature_dict['conv_1'].shape)\n",
        "print(feature_dict['conv_2'].shape)\n",
        "print(feature_dict['attention_1'].shape)\n",
        "print(feature_dict['attention_2'].shape)"
      ],
      "metadata": {
        "colab": {
          "base_uri": "https://localhost:8080/"
        },
        "id": "7S4PEzqKwTri",
        "outputId": "bd92e00a-77b3-46e0-fc80-0164ae1de630"
      },
      "execution_count": 44,
      "outputs": [
        {
          "output_type": "stream",
          "name": "stdout",
          "text": [
            "torch.Size([1, 16, 14, 14])\n",
            "torch.Size([1, 32, 7, 7])\n",
            "torch.Size([1, 16, 14, 14])\n",
            "torch.Size([1, 32, 7, 7])\n"
          ]
        }
      ]
    },
    {
      "cell_type": "code",
      "source": [
        "features = feature_dict['conv_1'].cpu().detach().numpy()\n",
        "fig = plt.figure(figsize=(25, 4))\n",
        "for idx in range(features.shape[1]):\n",
        "  ax = fig.add_subplot(2, features.shape[1]/2, idx+1, xticks=[], yticks=[])\n",
        "  ax.imshow(np.squeeze(features[0, idx]), cmap='gray')"
      ],
      "metadata": {
        "colab": {
          "base_uri": "https://localhost:8080/",
          "height": 252
        },
        "id": "uAgvwF-bxGlg",
        "outputId": "46436edd-08c7-4066-d3d1-729dcd70e8d4"
      },
      "execution_count": 45,
      "outputs": [
        {
          "output_type": "display_data",
          "data": {
            "text/plain": [
              "<Figure size 1800x288 with 16 Axes>"
            ],
            "image/png": "[encoded data removed]"
          },
          "metadata": {}
        }
      ]
    },
    {
      "cell_type": "code",
      "source": [
        "features = feature_dict['attention_1'].cpu().detach().numpy()\n",
        "fig = plt.figure(figsize=(25, 4))\n",
        "for idx in range(features.shape[1]):\n",
        "  ax = fig.add_subplot(2, features.shape[1]/2, idx+1, xticks=[], yticks=[])\n",
        "  ax.imshow(np.squeeze(features[0, idx]), cmap='gray')"
      ],
      "metadata": {
        "colab": {
          "base_uri": "https://localhost:8080/",
          "height": 252
        },
        "id": "sUOxvh1NVWJ7",
        "outputId": "a0e7b67f-271f-4a88-c5f7-88e39d085ae9"
      },
      "execution_count": 46,
      "outputs": [
        {
          "output_type": "display_data",
          "data": {
            "text/plain": [
              "<Figure size 1800x288 with 16 Axes>"
            ],
            "image/png": "[encoded data removed]"
          },
          "metadata": {}
        }
      ]
    },
    {
      "cell_type": "code",
      "source": [
        "features = feature_dict['conv_2'].cpu().detach().numpy()\n",
        "fig = plt.figure(figsize=(25, 8))\n",
        "for idx in range(features.shape[1]):\n",
        "  ax = fig.add_subplot(4, features.shape[1]/4, idx+1, xticks=[], yticks=[])\n",
        "  ax.imshow(np.squeeze(features[0, idx]), cmap='gray')"
      ],
      "metadata": {
        "colab": {
          "base_uri": "https://localhost:8080/",
          "height": 469
        },
        "id": "COJVIF62zF5d",
        "outputId": "95364ef5-069f-4eb6-8312-7039550652cc"
      },
      "execution_count": 50,
      "outputs": [
        {
          "output_type": "display_data",
          "data": {
            "text/plain": [
              "<Figure size 1800x576 with 32 Axes>"
            ],
            "image/png": "[encoded data removed]"
          },
          "metadata": {}
        }
      ]
    },
    {
      "cell_type": "code",
      "source": [
        "features = feature_dict['attention_2'].cpu().detach().numpy()\n",
        "fig = plt.figure(figsize=(25, 8))\n",
        "for idx in range(features.shape[1]):\n",
        "  ax = fig.add_subplot(4, features.shape[1]/4, idx+1, xticks=[], yticks=[])\n",
        "  ax.imshow(np.squeeze(features[0, idx]), cmap='gray')"
      ],
      "metadata": {
        "colab": {
          "base_uri": "https://localhost:8080/",
          "height": 469
        },
        "id": "g6W7fzFfVm86",
        "outputId": "be3273c2-c8a1-4fd0-dcf8-1d81dfc40289"
      },
      "execution_count": 49,
      "outputs": [
        {
          "output_type": "display_data",
          "data": {
            "text/plain": [
              "<Figure size 1800x576 with 32 Axes>"
            ],
            "image/png": "[encoded data removed]"
          },
          "metadata": {}
        }
      ]
    },
    {
      "cell_type": "markdown",
      "source": [
        "## Visualize Kernel Weights"
      ],
      "metadata": {
        "id": "YlGqcxPz5Wsv"
      }
    },
    {
      "cell_type": "code",
      "source": [
        "states = model.state_dict()\n",
        "states.keys()"
      ],
      "metadata": {
        "id": "cHSry6XtzXIQ",
        "colab": {
          "base_uri": "https://localhost:8080/"
        },
        "outputId": "ca03d945-01cd-4c21-ce71-70f257306aa0"
      },
      "execution_count": 51,
      "outputs": [
        {
          "output_type": "execute_result",
          "data": {
            "text/plain": [
              "odict_keys(['conv_1.0.weight', 'conv_1.1.weight', 'conv_1.1.bias', 'conv_1.1.running_mean', 'conv_1.1.running_var', 'conv_1.1.num_batches_tracked', 'attention_1.theta.weight', 'attention_1.theta.bias', 'attention_1.phi.0.weight', 'attention_1.phi.0.bias', 'attention_1.g_func.0.weight', 'attention_1.g_func.0.bias', 'attention_1.w.weight', 'attention_1.w.bias', 'conv_2.0.weight', 'conv_2.1.weight', 'conv_2.1.bias', 'conv_2.1.running_mean', 'conv_2.1.running_var', 'conv_2.1.num_batches_tracked', 'attention_2.theta.weight', 'attention_2.theta.bias', 'attention_2.phi.0.weight', 'attention_2.phi.0.bias', 'attention_2.g_func.0.weight', 'attention_2.g_func.0.bias', 'attention_2.w.weight', 'attention_2.w.bias', 'conv_3.0.weight', 'conv_3.1.weight', 'conv_3.1.bias', 'conv_3.1.running_mean', 'conv_3.1.running_var', 'conv_3.1.num_batches_tracked', 'conv_4.0.weight', 'conv_4.1.weight', 'conv_4.1.bias', 'conv_4.1.running_mean', 'conv_4.1.running_var', 'conv_4.1.num_batches_tracked', 'classifer.weight', 'classifer.bias'])"
            ]
          },
          "metadata": {},
          "execution_count": 51
        }
      ]
    },
    {
      "cell_type": "code",
      "source": [
        "states['layer1.0.weight'].shape"
      ],
      "metadata": {
        "colab": {
          "base_uri": "https://localhost:8080/"
        },
        "id": "wc1kNC9P3VIk",
        "outputId": "bdf76636-4bea-405e-f400-3989bb98b8d7"
      },
      "execution_count": null,
      "outputs": [
        {
          "output_type": "execute_result",
          "data": {
            "text/plain": [
              "torch.Size([16, 1, 5, 5])"
            ]
          },
          "metadata": {},
          "execution_count": 30
        }
      ]
    },
    {
      "cell_type": "code",
      "source": [
        "weights = states['layer1.0.weight'].cpu().detach().numpy()\n",
        "fig = plt.figure(figsize=(25, 4))\n",
        "for idx in range(weights.shape[0]):\n",
        "  ax = fig.add_subplot(2, weights.shape[0]/2, idx+1, xticks=[], yticks=[])\n",
        "  ax.imshow(np.squeeze(weights[idx, 0]), cmap='gray')"
      ],
      "metadata": {
        "colab": {
          "base_uri": "https://localhost:8080/",
          "height": 252
        },
        "id": "-yrNzDs13ddo",
        "outputId": "a51f7ad3-71f6-4076-d8fd-5f33966eb691"
      },
      "execution_count": null,
      "outputs": [
        {
          "output_type": "display_data",
          "data": {
            "text/plain": [
              "<Figure size 1800x288 with 16 Axes>"
            ],
            "image/png": "[encoded data removed]"
          },
          "metadata": {}
        }
      ]
    },
    {
      "cell_type": "code",
      "source": [
        "weights = states['layer2.0.weight'].cpu().detach().numpy()\n",
        "fig = plt.figure(figsize=(25, 4))\n",
        "for idx in range(weights.shape[0]):\n",
        "  ax = fig.add_subplot(2, weights.shape[0]/2, idx+1, xticks=[], yticks=[])\n",
        "  ax.imshow(np.squeeze(weights[idx, 0]), cmap='gray')"
      ],
      "metadata": {
        "colab": {
          "base_uri": "https://localhost:8080/",
          "height": 223
        },
        "id": "PRAo49js5NWe",
        "outputId": "f1533c9b-1ad2-4aac-805c-4ff772d318cc"
      },
      "execution_count": null,
      "outputs": [
        {
          "output_type": "display_data",
          "data": {
            "text/plain": [
              "<Figure size 1800x288 with 32 Axes>"
            ],
            "image/png": "[encoded data removed]"
          },
          "metadata": {}
        }
      ]
    },
    {
      "cell_type": "code",
      "source": [
        ""
      ],
      "metadata": {
        "id": "TmGzwePB5juv"
      },
      "execution_count": null,
      "outputs": []
    }
  ]
}