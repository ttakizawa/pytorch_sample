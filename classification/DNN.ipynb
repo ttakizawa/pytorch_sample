{
  "nbformat": 4,
  "nbformat_minor": 0,
  "metadata": {
    "colab": {
      "name": "DNN.ipynb",
      "provenance": [],
      "collapsed_sections": [],
      "authorship_tag": "ABX9TyOX+Ee2yNxm0ksey9a9MqGl",
      "include_colab_link": true
    },
    "kernelspec": {
      "name": "python3",
      "display_name": "Python 3"
    },
    "language_info": {
      "name": "python"
    },
    "accelerator": "GPU",
    "gpuClass": "standard"
  },
  "cells": [
    {
      "cell_type": "markdown",
      "metadata": {
        "id": "view-in-github",
        "colab_type": "text"
      },
      "source": [
        "<a href=\"https://colab.research.google.com/github/ttakizawa/pytorch_sample/blob/main/classification/DNN.ipynb\" target=\"_parent\"><img src=\"https://colab.research.google.com/assets/colab-badge.svg\" alt=\"Open In Colab\"/></a>"
      ]
    },
    {
      "cell_type": "code",
      "execution_count": 1,
      "metadata": {
        "id": "NhfJJENtQ_v8"
      },
      "outputs": [],
      "source": [
        "import torch\n",
        "import numpy as np\n",
        "from torch import nn\n",
        "from torch.utils.data import DataLoader\n",
        "from torchvision import datasets\n",
        "import torchvision.transforms as transforms\n",
        "from torchvision.transforms import ToTensor\n",
        "from torch.utils.data.sampler import SubsetRandomSampler"
      ]
    },
    {
      "cell_type": "markdown",
      "source": [
        "## Prepare Dataset"
      ],
      "metadata": {
        "id": "gT_WwEU5XuCk"
      }
    },
    {
      "cell_type": "code",
      "source": [
        "def create_datasets(batch_size):\n",
        "\n",
        "    # percentage of training set to use as validation\n",
        "    valid_size = 0.2\n",
        "\n",
        "    # convert data to torch.FloatTensor\n",
        "    transform = transforms.ToTensor()\n",
        "\n",
        "    # choose the training and test datasets\n",
        "    train_data = datasets.MNIST(root='data', \n",
        "                                train=True,\n",
        "                                download=True, \n",
        "                                transform=transform)\n",
        "\n",
        "    test_data = datasets.MNIST(root='data',\n",
        "                               train=False,\n",
        "                               download=True,\n",
        "                               transform=transform)\n",
        "\n",
        "    # obtain training indices that will be used for validation\n",
        "    num_train = len(train_data)\n",
        "    indices = list(range(num_train))\n",
        "    np.random.shuffle(indices)\n",
        "    split = int(np.floor(valid_size * num_train))\n",
        "    train_idx, valid_idx = indices[split:], indices[:split]\n",
        "    \n",
        "    # define samplers for obtaining training and validation batches\n",
        "    train_sampler = SubsetRandomSampler(train_idx)\n",
        "    valid_sampler = SubsetRandomSampler(valid_idx)\n",
        "    \n",
        "    # load training data in batches\n",
        "    train_loader = torch.utils.data.DataLoader(train_data,\n",
        "                                               batch_size=batch_size,\n",
        "                                               sampler=train_sampler,\n",
        "                                               num_workers=0)\n",
        "    \n",
        "    # load validation data in batches\n",
        "    valid_loader = torch.utils.data.DataLoader(train_data,\n",
        "                                               batch_size=batch_size,\n",
        "                                               sampler=valid_sampler,\n",
        "                                               num_workers=0)\n",
        "    \n",
        "    # load test data in batches\n",
        "    test_loader = torch.utils.data.DataLoader(test_data,\n",
        "                                              batch_size=batch_size,\n",
        "                                              num_workers=0)\n",
        "    \n",
        "    return train_loader, test_loader, valid_loader"
      ],
      "metadata": {
        "id": "WVxKEHboRJYl"
      },
      "execution_count": 2,
      "outputs": []
    },
    {
      "cell_type": "markdown",
      "source": [
        "## Eary Stopping"
      ],
      "metadata": {
        "id": "aCKiTa5vX6kn"
      }
    },
    {
      "cell_type": "code",
      "source": [
        "class EarlyStopping:\n",
        "    \"\"\"Early stops the training if validation loss doesn't improve after a given patience.\"\"\"\n",
        "    def __init__(self, patience=7, verbose=False, delta=0, path='checkpoint.pt', trace_func=print):\n",
        "        \"\"\"\n",
        "        Args:\n",
        "            patience (int): How long to wait after last time validation loss improved.\n",
        "                            Default: 7\n",
        "            verbose (bool): If True, prints a message for each validation loss improvement. \n",
        "                            Default: False\n",
        "            delta (float): Minimum change in the monitored quantity to qualify as an improvement.\n",
        "                            Default: 0\n",
        "            path (str): Path for the checkpoint to be saved to.\n",
        "                            Default: 'checkpoint.pt'\n",
        "            trace_func (function): trace print function.\n",
        "                            Default: print            \n",
        "        \"\"\"\n",
        "        self.patience = patience\n",
        "        self.verbose = verbose\n",
        "        self.counter = 0\n",
        "        self.best_score = None\n",
        "        self.early_stop = False\n",
        "        self.val_loss_min = np.Inf\n",
        "        self.delta = delta\n",
        "        self.path = path\n",
        "        self.trace_func = trace_func\n",
        "    def __call__(self, val_loss, model):\n",
        "\n",
        "        score = -val_loss\n",
        "\n",
        "        if self.best_score is None:\n",
        "            self.best_score = score\n",
        "            self.save_checkpoint(val_loss, model)\n",
        "        elif score < self.best_score + self.delta:\n",
        "            self.counter += 1\n",
        "            self.trace_func(f'EarlyStopping counter: {self.counter} out of {self.patience}')\n",
        "            if self.counter >= self.patience:\n",
        "                self.early_stop = True\n",
        "        else:\n",
        "            self.best_score = score\n",
        "            self.save_checkpoint(val_loss, model)\n",
        "            self.counter = 0\n",
        "\n",
        "    def save_checkpoint(self, val_loss, model):\n",
        "        '''Saves model when validation loss decrease.'''\n",
        "        if self.verbose:\n",
        "            self.trace_func(f'Validation loss decreased ({self.val_loss_min:.6f} --> {val_loss:.6f}).  Saving model ...')\n",
        "        torch.save(model.state_dict(), self.path)\n",
        "        self.val_loss_min = val_loss"
      ],
      "metadata": {
        "id": "M9Dr0KVHX85I"
      },
      "execution_count": 3,
      "outputs": []
    },
    {
      "cell_type": "markdown",
      "source": [
        "## Define Model"
      ],
      "metadata": {
        "id": "JJxQtfeHZWqG"
      }
    },
    {
      "cell_type": "code",
      "source": [
        "class NeuralNetwork(nn.Module):\n",
        "    def __init__(self):\n",
        "        super(NeuralNetwork, self).__init__()\n",
        "        self.flatten = nn.Flatten()\n",
        "        self.linear_relu_stack = nn.Sequential(\n",
        "            nn.Linear(28*28, 128),\n",
        "            nn.ReLU(),\n",
        "            nn.Dropout(p=0.5),\n",
        "            nn.Linear(128, 128),\n",
        "            nn.ReLU(),\n",
        "            nn.Dropout(p=0.5),\n",
        "            nn.Linear(128, 10)\n",
        "        )\n",
        "\n",
        "    def forward(self, x):\n",
        "        x = self.flatten(x)\n",
        "        logits = self.linear_relu_stack(x)\n",
        "        return logits"
      ],
      "metadata": {
        "id": "zizwfNIXRyMk"
      },
      "execution_count": 9,
      "outputs": []
    },
    {
      "cell_type": "markdown",
      "source": [
        "## Training Loop"
      ],
      "metadata": {
        "id": "-Kmf1vgaZZjF"
      }
    },
    {
      "cell_type": "code",
      "source": [
        "def train(device, model, batch_size, loss_fn, optimizer, patience, n_epochs, train_loader, valid_loader):\n",
        "    # to track the training loss as the model trains\n",
        "    train_losses = []\n",
        "    # to track the validation loss as the model trains\n",
        "    valid_losses = []\n",
        "    # to track the average training loss per epoch as the model trains\n",
        "    avg_train_losses = []\n",
        "    # to track the average validation loss per epoch as the model trains\n",
        "    avg_valid_losses = [] \n",
        "    \n",
        "    # initialize the early_stopping object\n",
        "    early_stopping = EarlyStopping(patience=patience, verbose=True)\n",
        "\n",
        "    for epoch in range(1, n_epochs + 1):\n",
        "      # train the model \n",
        "      model.train() # prep model for training\n",
        "      for batch, (data, target) in enumerate(train_loader, 1):\n",
        "        data, target = data.to(device), target.to(device)\n",
        "        # clear the gradients of all optimized variables\n",
        "        optimizer.zero_grad()\n",
        "        # forward pass: compute predicted outputs by passing inputs to the model\n",
        "        output = model(data)\n",
        "        # calculate the loss\n",
        "        loss = loss_fn(output, target)\n",
        "        # backward pass: compute gradient of the loss with respect to model parameters\n",
        "        loss.backward()\n",
        "        # perform a single optimization step (parameter update)\n",
        "        optimizer.step()\n",
        "        # record training loss\n",
        "        train_losses.append(loss.item())\n",
        "\n",
        "      # validate the model \n",
        "      model.eval() # prep model for evaluation\n",
        "      for data, target in valid_loader:\n",
        "        data, target = data.to(device), target.to(device)\n",
        "        # forward pass: compute predicted outputs by passing inputs to the model\n",
        "        output = model(data)\n",
        "        # calculate the loss\n",
        "        loss = loss_fn(output, target)\n",
        "        # record validation loss\n",
        "        valid_losses.append(loss.item())\n",
        "      \n",
        "      # print training/validation statistics \n",
        "      # calculate average loss over an epoch\n",
        "      train_loss = np.average(train_losses)\n",
        "      valid_loss = np.average(valid_losses)\n",
        "      avg_train_losses.append(train_loss)\n",
        "      avg_valid_losses.append(valid_loss)\n",
        "\n",
        "      epoch_len = len(str(n_epochs))\n",
        "        \n",
        "      print_msg = (f'[{epoch:>{epoch_len}}/{n_epochs:>{epoch_len}}] ' +\n",
        "                    f'train_loss: {train_loss:.5f} ' +\n",
        "                    f'valid_loss: {valid_loss:.5f}')\n",
        "      \n",
        "      print(print_msg)\n",
        "      \n",
        "      # clear lists to track next epoch\n",
        "      train_losses = []\n",
        "      valid_losses = []\n",
        "      \n",
        "      # early_stopping needs the validation loss to check if it has decresed, \n",
        "      # and if it has, it will make a checkpoint of the current model\n",
        "      early_stopping(valid_loss, model)\n",
        "      \n",
        "      if early_stopping.early_stop:\n",
        "          print(\"Early stopping\")\n",
        "          break\n",
        "        \n",
        "    # load the last checkpoint with the best model\n",
        "    model.load_state_dict(torch.load('checkpoint.pt'))\n",
        "\n",
        "    return  model, avg_train_losses, avg_valid_losses"
      ],
      "metadata": {
        "id": "B9Bpepg8R5ri"
      },
      "execution_count": 5,
      "outputs": []
    },
    {
      "cell_type": "code",
      "source": [
        "batch_size = 256\n",
        "n_epochs = 100\n",
        "\n",
        "device = \"cuda\" if torch.cuda.is_available() else \"cpu\"\n",
        "print(f\"Using {device} device\")\n",
        "\n",
        "# data loader\n",
        "train_loader, test_loader, valid_loader = create_datasets(batch_size)\n",
        "\n",
        "# model\n",
        "model = NeuralNetwork().to(device)\n",
        "\n",
        "loss_fn = nn.CrossEntropyLoss()\n",
        "optimizer = torch.optim.Adam(model.parameters())\n",
        "\n",
        "# early stopping patience; how long to wait after last time validation loss improved.\n",
        "patience = 20\n",
        "\n",
        "model, train_loss, valid_loss = train(device, model, batch_size, loss_fn, optimizer, patience, n_epochs, train_loader, valid_loader)"
      ],
      "metadata": {
        "colab": {
          "base_uri": "https://localhost:8080/"
        },
        "id": "4n6B-HSXaoXE",
        "outputId": "a31eab73-875f-4f24-e444-5b95713e8333"
      },
      "execution_count": 11,
      "outputs": [
        {
          "output_type": "stream",
          "name": "stdout",
          "text": [
            "Using cuda device\n",
            "[  1/100] train_loss: 0.84388 valid_loss: 0.30569\n",
            "Validation loss decreased (inf --> 0.305685).  Saving model ...\n",
            "[  2/100] train_loss: 0.37115 valid_loss: 0.22445\n",
            "Validation loss decreased (0.305685 --> 0.224453).  Saving model ...\n",
            "[  3/100] train_loss: 0.29953 valid_loss: 0.18656\n",
            "Validation loss decreased (0.224453 --> 0.186560).  Saving model ...\n",
            "[  4/100] train_loss: 0.26567 valid_loss: 0.15975\n",
            "Validation loss decreased (0.186560 --> 0.159750).  Saving model ...\n",
            "[  5/100] train_loss: 0.23787 valid_loss: 0.14324\n",
            "Validation loss decreased (0.159750 --> 0.143238).  Saving model ...\n",
            "[  6/100] train_loss: 0.21602 valid_loss: 0.13235\n",
            "Validation loss decreased (0.143238 --> 0.132346).  Saving model ...\n",
            "[  7/100] train_loss: 0.20515 valid_loss: 0.12769\n",
            "Validation loss decreased (0.132346 --> 0.127686).  Saving model ...\n",
            "[  8/100] train_loss: 0.19143 valid_loss: 0.11774\n",
            "Validation loss decreased (0.127686 --> 0.117738).  Saving model ...\n",
            "[  9/100] train_loss: 0.17980 valid_loss: 0.11229\n",
            "Validation loss decreased (0.117738 --> 0.112290).  Saving model ...\n",
            "[ 10/100] train_loss: 0.17185 valid_loss: 0.10802\n",
            "Validation loss decreased (0.112290 --> 0.108016).  Saving model ...\n",
            "[ 11/100] train_loss: 0.16447 valid_loss: 0.10801\n",
            "Validation loss decreased (0.108016 --> 0.108014).  Saving model ...\n",
            "[ 12/100] train_loss: 0.15575 valid_loss: 0.10573\n",
            "Validation loss decreased (0.108014 --> 0.105734).  Saving model ...\n",
            "[ 13/100] train_loss: 0.15399 valid_loss: 0.10286\n",
            "Validation loss decreased (0.105734 --> 0.102859).  Saving model ...\n",
            "[ 14/100] train_loss: 0.14893 valid_loss: 0.09862\n",
            "Validation loss decreased (0.102859 --> 0.098620).  Saving model ...\n",
            "[ 15/100] train_loss: 0.14573 valid_loss: 0.10034\n",
            "EarlyStopping counter: 1 out of 20\n",
            "[ 16/100] train_loss: 0.14034 valid_loss: 0.09887\n",
            "EarlyStopping counter: 2 out of 20\n",
            "[ 17/100] train_loss: 0.13475 valid_loss: 0.10080\n",
            "EarlyStopping counter: 3 out of 20\n",
            "[ 18/100] train_loss: 0.13120 valid_loss: 0.09346\n",
            "Validation loss decreased (0.098620 --> 0.093457).  Saving model ...\n",
            "[ 19/100] train_loss: 0.12766 valid_loss: 0.09882\n",
            "EarlyStopping counter: 1 out of 20\n",
            "[ 20/100] train_loss: 0.12691 valid_loss: 0.09375\n",
            "EarlyStopping counter: 2 out of 20\n",
            "[ 21/100] train_loss: 0.12242 valid_loss: 0.09242\n",
            "Validation loss decreased (0.093457 --> 0.092420).  Saving model ...\n",
            "[ 22/100] train_loss: 0.12155 valid_loss: 0.09505\n",
            "EarlyStopping counter: 1 out of 20\n",
            "[ 23/100] train_loss: 0.11782 valid_loss: 0.09630\n",
            "EarlyStopping counter: 2 out of 20\n",
            "[ 24/100] train_loss: 0.11822 valid_loss: 0.09421\n",
            "EarlyStopping counter: 3 out of 20\n",
            "[ 25/100] train_loss: 0.11480 valid_loss: 0.08921\n",
            "Validation loss decreased (0.092420 --> 0.089205).  Saving model ...\n",
            "[ 26/100] train_loss: 0.11442 valid_loss: 0.08727\n",
            "Validation loss decreased (0.089205 --> 0.087272).  Saving model ...\n",
            "[ 27/100] train_loss: 0.11065 valid_loss: 0.08739\n",
            "EarlyStopping counter: 1 out of 20\n",
            "[ 28/100] train_loss: 0.10936 valid_loss: 0.09311\n",
            "EarlyStopping counter: 2 out of 20\n",
            "[ 29/100] train_loss: 0.10843 valid_loss: 0.08831\n",
            "EarlyStopping counter: 3 out of 20\n",
            "[ 30/100] train_loss: 0.10460 valid_loss: 0.09352\n",
            "EarlyStopping counter: 4 out of 20\n",
            "[ 31/100] train_loss: 0.10686 valid_loss: 0.09433\n",
            "EarlyStopping counter: 5 out of 20\n",
            "[ 32/100] train_loss: 0.10436 valid_loss: 0.09104\n",
            "EarlyStopping counter: 6 out of 20\n",
            "[ 33/100] train_loss: 0.10436 valid_loss: 0.09308\n",
            "EarlyStopping counter: 7 out of 20\n",
            "[ 34/100] train_loss: 0.10755 valid_loss: 0.09216\n",
            "EarlyStopping counter: 8 out of 20\n",
            "[ 35/100] train_loss: 0.10175 valid_loss: 0.09190\n",
            "EarlyStopping counter: 9 out of 20\n",
            "[ 36/100] train_loss: 0.09912 valid_loss: 0.09272\n",
            "EarlyStopping counter: 10 out of 20\n",
            "[ 37/100] train_loss: 0.09863 valid_loss: 0.09681\n",
            "EarlyStopping counter: 11 out of 20\n",
            "[ 38/100] train_loss: 0.09657 valid_loss: 0.08758\n",
            "EarlyStopping counter: 12 out of 20\n",
            "[ 39/100] train_loss: 0.09565 valid_loss: 0.09281\n",
            "EarlyStopping counter: 13 out of 20\n",
            "[ 40/100] train_loss: 0.09413 valid_loss: 0.09534\n",
            "EarlyStopping counter: 14 out of 20\n",
            "[ 41/100] train_loss: 0.09483 valid_loss: 0.09101\n",
            "EarlyStopping counter: 15 out of 20\n",
            "[ 42/100] train_loss: 0.09240 valid_loss: 0.09362\n",
            "EarlyStopping counter: 16 out of 20\n",
            "[ 43/100] train_loss: 0.09264 valid_loss: 0.09056\n",
            "EarlyStopping counter: 17 out of 20\n",
            "[ 44/100] train_loss: 0.09462 valid_loss: 0.09061\n",
            "EarlyStopping counter: 18 out of 20\n",
            "[ 45/100] train_loss: 0.09204 valid_loss: 0.09129\n",
            "EarlyStopping counter: 19 out of 20\n",
            "[ 46/100] train_loss: 0.09144 valid_loss: 0.09121\n",
            "EarlyStopping counter: 20 out of 20\n",
            "Early stopping\n"
          ]
        }
      ]
    },
    {
      "cell_type": "markdown",
      "source": [
        "## Visualizing the Loss and the Early Stopping Checkpoint"
      ],
      "metadata": {
        "id": "0Pt3Z5zwbVpt"
      }
    },
    {
      "cell_type": "code",
      "source": [
        "import matplotlib.pyplot as plt\n",
        "%matplotlib inline"
      ],
      "metadata": {
        "id": "0FpyDC0ybZ0H"
      },
      "execution_count": 12,
      "outputs": []
    },
    {
      "cell_type": "code",
      "source": [
        "# visualize the loss as the network trained\n",
        "fig = plt.figure(figsize=(10,8))\n",
        "plt.plot(range(1,len(train_loss)+1),train_loss, label='Training Loss')\n",
        "plt.plot(range(1,len(valid_loss)+1),valid_loss,label='Validation Loss')\n",
        "\n",
        "# find position of lowest validation loss\n",
        "minposs = valid_loss.index(min(valid_loss))+1 \n",
        "plt.axvline(minposs, linestyle='--', color='r',label='Early Stopping Checkpoint')\n",
        "\n",
        "plt.xlabel('epochs')\n",
        "plt.ylabel('loss')\n",
        "plt.ylim(0, max(np.max(valid_loss), np.max(train_loss) + 0.1)) # consistent scale\n",
        "plt.xlim(0, len(train_loss)+1) # consistent scale\n",
        "plt.grid(True)\n",
        "plt.legend()\n",
        "plt.tight_layout()\n",
        "plt.show()\n",
        "fig.savefig('loss_plot.png', bbox_inches='tight')"
      ],
      "metadata": {
        "colab": {
          "base_uri": "https://localhost:8080/",
          "height": 585
        },
        "id": "GQhQ0FFaa1o6",
        "outputId": "baa71dea-e479-4367-8af8-f40174c9bd57"
      },
      "execution_count": 13,
      "outputs": [
        {
          "output_type": "display_data",
          "data": {
            "text/plain": [
              "<Figure size 720x576 with 1 Axes>"
            ],
            "image/png": "[encoded data removed]"
          },
          "metadata": {
            "needs_background": "light"
          }
        }
      ]
    },
    {
      "cell_type": "code",
      "source": [
        "# initialize lists to monitor test loss and accuracy\n",
        "test_loss = 0.0\n",
        "class_correct = list(0. for i in range(10))\n",
        "class_total = list(0. for i in range(10))\n",
        "\n",
        "model.eval() # prep model for evaluation\n",
        "\n",
        "for data, target in test_loader:\n",
        "    if len(target.data) != batch_size:\n",
        "        break\n",
        "    # forward pass: compute predicted outputs by passing inputs to the model\n",
        "    data, target = data.to(device), target.to(device)\n",
        "    output = model(data)\n",
        "    # calculate the loss\n",
        "    loss = loss_fn(output, target)\n",
        "    # update test loss \n",
        "    test_loss += loss.item()*data.size(0)\n",
        "    # convert output probabilities to predicted class\n",
        "    _, pred = torch.max(output, 1)\n",
        "    # compare predictions to true label\n",
        "    correct = np.squeeze(pred.eq(target.data.view_as(pred)))\n",
        "    # calculate test accuracy for each object class\n",
        "    for i in range(batch_size):\n",
        "        label = target.data[i]\n",
        "        class_correct[label] += correct[i].item()\n",
        "        class_total[label] += 1\n",
        "\n",
        "# calculate and print avg test loss\n",
        "test_loss = test_loss/len(test_loader.dataset)\n",
        "print('Test Loss: {:.6f}\\n'.format(test_loss))\n",
        "\n",
        "for i in range(10):\n",
        "    if class_total[i] > 0:\n",
        "        print('Test Accuracy of %5s: %2d%% (%2d/%2d)' % (\n",
        "            str(i), 100 * class_correct[i] / class_total[i],\n",
        "            np.sum(class_correct[i]), np.sum(class_total[i])))\n",
        "    else:\n",
        "        print('Test Accuracy of %5s: N/A (no training examples)' % (classes[i]))\n",
        "\n",
        "print('\\nTest Accuracy (Overall): %2d%% (%2d/%2d)' % (\n",
        "    100. * np.sum(class_correct) / np.sum(class_total),\n",
        "    np.sum(class_correct), np.sum(class_total)))"
      ],
      "metadata": {
        "colab": {
          "base_uri": "https://localhost:8080/"
        },
        "id": "F_CpUAqMeVoS",
        "outputId": "f0f4ab96-aea8-4c4c-c816-16b4beeb28f6"
      },
      "execution_count": 18,
      "outputs": [
        {
          "output_type": "stream",
          "name": "stdout",
          "text": [
            "Test Loss: 0.091806\n",
            "\n",
            "Test Accuracy of     0: 99% (971/979)\n",
            "Test Accuracy of     1: 99% (1122/1133)\n",
            "Test Accuracy of     2: 97% (1004/1030)\n",
            "Test Accuracy of     3: 97% (985/1008)\n",
            "Test Accuracy of     4: 97% (959/980)\n",
            "Test Accuracy of     5: 96% (859/890)\n",
            "Test Accuracy of     6: 97% (928/956)\n",
            "Test Accuracy of     7: 97% (1001/1027)\n",
            "Test Accuracy of     8: 96% (938/973)\n",
            "Test Accuracy of     9: 96% (968/1008)\n",
            "\n",
            "Test Accuracy (Overall): 97% (9735/9984)\n"
          ]
        }
      ]
    },
    {
      "cell_type": "code",
      "source": [
        "# obtain one batch of test images\n",
        "dataiter = iter(test_loader)\n",
        "images, labels = dataiter.next()\n",
        "images, labels = images.to(device), labels.to(device)\n",
        "# get sample outputs\n",
        "output = model(images)\n",
        "# convert output probabilities to predicted class\n",
        "_, preds = torch.max(output, 1)\n",
        "# prep images for display\n",
        "images = images.cpu().numpy()\n",
        "\n",
        "# plot the images in the batch, along with predicted and true labels\n",
        "fig = plt.figure(figsize=(25, 4))\n",
        "for idx in np.arange(20):\n",
        "    ax = fig.add_subplot(2, 20/2, idx+1, xticks=[], yticks=[])\n",
        "    ax.imshow(np.squeeze(images[idx]), cmap='gray')\n",
        "    ax.set_title(\"{} ({})\".format(str(preds[idx].item()), str(labels[idx].item())),\n",
        "                 color=(\"green\" if preds[idx]==labels[idx] else \"red\"))"
      ],
      "metadata": {
        "colab": {
          "base_uri": "https://localhost:8080/",
          "height": 267
        },
        "id": "r_OVitkYmRMo",
        "outputId": "874a5d8c-d8bb-4558-b7f8-339e3bd98f10"
      },
      "execution_count": 21,
      "outputs": [
        {
          "output_type": "display_data",
          "data": {
            "text/plain": [
              "<Figure size 1800x288 with 20 Axes>"
            ],
            "image/png": "[encoded data removed]"
          },
          "metadata": {}
        }
      ]
    },
    {
      "cell_type": "code",
      "source": [
        ""
      ],
      "metadata": {
        "id": "QFuodU5apD1P"
      },
      "execution_count": null,
      "outputs": []
    }
  ]
}